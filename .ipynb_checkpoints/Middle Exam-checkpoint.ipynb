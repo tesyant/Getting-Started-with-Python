{
 "cells": [
  {
   "cell_type": "code",
   "execution_count": 2,
   "metadata": {},
   "outputs": [],
   "source": [
    "import nltk\n",
    "from nltk.tokenize import sent_tokenize\n",
    "from nltk.tokenize import word_tokenize\n",
    "from collections import Counter"
   ]
  },
  {
   "cell_type": "code",
   "execution_count": 116,
   "metadata": {},
   "outputs": [],
   "source": [
    "text = \"This's a sent tokenize test. this is sent two. is this sent three? sent 4 is cool! Now it's your turn.\""
   ]
  },
  {
   "cell_type": "code",
   "execution_count": 32,
   "metadata": {},
   "outputs": [],
   "source": [
    "KTnya = word_tokenize(text)"
   ]
  },
  {
   "cell_type": "code",
   "execution_count": 33,
   "metadata": {},
   "outputs": [
    {
     "name": "stdout",
     "output_type": "stream",
     "text": [
      "['This', \"'s\", 'a', 'sent', 'tokenize', 'test', '.', 'this', 'is', 'sent', 'two', '.', 'is', 'this', 'sent', 'three', '?', 'sent', '4', 'is', 'cool', '!', 'Now', 'it', \"'s\", 'your', 'turn', '.']\n"
     ]
    }
   ],
   "source": [
    "print(KTnya)"
   ]
  },
  {
   "cell_type": "code",
   "execution_count": 34,
   "metadata": {},
   "outputs": [
    {
     "name": "stdout",
     "output_type": "stream",
     "text": [
      "['this', \"'s\", 'a', 'sent', 'tokenize', 'test', '.', 'this', 'is', 'sent', 'two', '.', 'is', 'this', 'sent', 'three', '?', 'sent', '4', 'is', 'cool', '!', 'now', 'it', \"'s\", 'your', 'turn', '.']\n"
     ]
    }
   ],
   "source": [
    "LKata = [x.lower() for x in KTnya]\n",
    "print(LKata)"
   ]
  },
  {
   "cell_type": "code",
   "execution_count": 41,
   "metadata": {},
   "outputs": [
    {
     "data": {
      "text/plain": [
       "28"
      ]
     },
     "execution_count": 41,
     "metadata": {},
     "output_type": "execute_result"
    }
   ],
   "source": [
    "NKata = len(LKata)\n",
    "NKata"
   ]
  },
  {
   "cell_type": "code",
   "execution_count": 38,
   "metadata": {},
   "outputs": [],
   "source": [
    "JKata = Counter(LKata).most_common()"
   ]
  },
  {
   "cell_type": "code",
   "execution_count": 39,
   "metadata": {},
   "outputs": [
    {
     "data": {
      "text/plain": [
       "[('sent', 4),\n",
       " ('this', 3),\n",
       " ('.', 3),\n",
       " ('is', 3),\n",
       " (\"'s\", 2),\n",
       " ('a', 1),\n",
       " ('tokenize', 1),\n",
       " ('test', 1),\n",
       " ('two', 1),\n",
       " ('three', 1),\n",
       " ('?', 1),\n",
       " ('4', 1),\n",
       " ('cool', 1),\n",
       " ('!', 1),\n",
       " ('now', 1),\n",
       " ('it', 1),\n",
       " ('your', 1),\n",
       " ('turn', 1)]"
      ]
     },
     "execution_count": 39,
     "metadata": {},
     "output_type": "execute_result"
    }
   ],
   "source": [
    "JKata"
   ]
  },
  {
   "cell_type": "code",
   "execution_count": 51,
   "metadata": {},
   "outputs": [],
   "source": [
    "lsbobot = []\n",
    "for kt, jm in JKata:\n",
    "    jbbt = jm/NKata\n",
    "    lsbobot.append((kt, jbbt))\n",
    "    lsbobot"
   ]
  },
  {
   "cell_type": "code",
   "execution_count": 52,
   "metadata": {},
   "outputs": [
    {
     "data": {
      "text/plain": [
       "[('sent', 0.14285714285714285),\n",
       " ('this', 0.10714285714285714),\n",
       " ('.', 0.10714285714285714),\n",
       " ('is', 0.10714285714285714),\n",
       " (\"'s\", 0.07142857142857142),\n",
       " ('a', 0.03571428571428571),\n",
       " ('tokenize', 0.03571428571428571),\n",
       " ('test', 0.03571428571428571),\n",
       " ('two', 0.03571428571428571),\n",
       " ('three', 0.03571428571428571),\n",
       " ('?', 0.03571428571428571),\n",
       " ('4', 0.03571428571428571),\n",
       " ('cool', 0.03571428571428571),\n",
       " ('!', 0.03571428571428571),\n",
       " ('now', 0.03571428571428571),\n",
       " ('it', 0.03571428571428571),\n",
       " ('your', 0.03571428571428571),\n",
       " ('turn', 0.03571428571428571)]"
      ]
     },
     "execution_count": 52,
     "metadata": {},
     "output_type": "execute_result"
    }
   ],
   "source": [
    "lsbobot"
   ]
  },
  {
   "cell_type": "code",
   "execution_count": 54,
   "metadata": {},
   "outputs": [
    {
     "data": {
      "text/plain": [
       "[\"This's a sent tokenize test.\",\n",
       " 'this is sent two.',\n",
       " 'is this sent three?',\n",
       " 'sent 4 is cool!',\n",
       " \"Now it's your turn.\"]"
      ]
     },
     "execution_count": 54,
     "metadata": {},
     "output_type": "execute_result"
    }
   ],
   "source": [
    "PKalimat = sent_tokenize(text)\n",
    "PKalimat"
   ]
  },
  {
   "cell_type": "code",
   "execution_count": 147,
   "metadata": {},
   "outputs": [
    {
     "ename": "NameError",
     "evalue": "name 'kats' is not defined",
     "output_type": "error",
     "traceback": [
      "\u001b[0;31m---------------------------------------------------------------------------\u001b[0m",
      "\u001b[0;31mNameError\u001b[0m                                 Traceback (most recent call last)",
      "\u001b[0;32m<ipython-input-147-6d17d4d76c28>\u001b[0m in \u001b[0;36m<module>\u001b[0;34m()\u001b[0m\n\u001b[1;32m      2\u001b[0m     \u001b[0mkats\u001b[0m \u001b[0;34m=\u001b[0m \u001b[0mnltk\u001b[0m\u001b[0;34m.\u001b[0m\u001b[0mword_tokenize\u001b[0m\u001b[0;34m(\u001b[0m\u001b[0mkata\u001b[0m\u001b[0;34m)\u001b[0m\u001b[0;34m\u001b[0m\u001b[0m\n\u001b[1;32m      3\u001b[0m     \u001b[0;31m##katats=[kata.lower() for kata in kataKal if katas.isalpha()]\u001b[0m\u001b[0;34m\u001b[0m\u001b[0;34m\u001b[0m\u001b[0m\n\u001b[0;32m----> 4\u001b[0;31m \u001b[0mprint\u001b[0m\u001b[0;34m(\u001b[0m\u001b[0mkats\u001b[0m\u001b[0;34m)\u001b[0m\u001b[0;34m\u001b[0m\u001b[0m\n\u001b[0m",
      "\u001b[0;31mNameError\u001b[0m: name 'kats' is not defined"
     ]
    }
   ],
   "source": [
    "for kata in PKalimat:\n",
    "    kats = nltk.word_tokenize(kata)\n",
    "    ##katats=[kata.lower() for kata in kataKal if katas.isalpha()]\n",
    "print(kats)"
   ]
  },
  {
   "cell_type": "code",
   "execution_count": null,
   "metadata": {},
   "outputs": [],
   "source": []
  },
  {
   "cell_type": "code",
   "execution_count": null,
   "metadata": {},
   "outputs": [],
   "source": []
  }
 ],
 "metadata": {
  "kernelspec": {
   "display_name": "Python 3",
   "language": "python",
   "name": "python3"
  },
  "language_info": {
   "codemirror_mode": {
    "name": "ipython",
    "version": 3
   },
   "file_extension": ".py",
   "mimetype": "text/x-python",
   "name": "python",
   "nbconvert_exporter": "python",
   "pygments_lexer": "ipython3",
   "version": "3.6.5"
  }
 },
 "nbformat": 4,
 "nbformat_minor": 2
}
