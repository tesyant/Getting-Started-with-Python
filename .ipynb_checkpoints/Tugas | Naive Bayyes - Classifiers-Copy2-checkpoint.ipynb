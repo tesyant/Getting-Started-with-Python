{
 "cells": [
  {
   "cell_type": "markdown",
   "metadata": {},
   "source": [
    "## klasifikasi artikel / paragraf"
   ]
  },
  {
   "cell_type": "code",
   "execution_count": 203,
   "metadata": {},
   "outputs": [],
   "source": [
    "train_test = [\n",
    "    ('I love this sandwich.','pos'),\n",
    "    ('this is an amazing place!','pos'),\n",
    "    ('I feel very good about these beers.','pos'),\n",
    "    ('this is my best work.','pos'),\n",
    "    ('what an awesome view','net'),\n",
    "    ('i do not like this restaurant','net'),\n",
    "    ('i am tired of this stuff.','net'),\n",
    "    (\"i can't deal with this\",'neg'),\n",
    "    ('he is my sworn enemy!','neg'),\n",
    "    ('my boss is horrible','neg')\n",
    "   \n",
    "]"
   ]
  },
  {
   "cell_type": "code",
   "execution_count": 204,
   "metadata": {},
   "outputs": [],
   "source": [
    "from textblob.classifiers import NaiveBayesClassifier"
   ]
  },
  {
   "cell_type": "code",
   "execution_count": 205,
   "metadata": {},
   "outputs": [],
   "source": [
    "cl = NaiveBayesClassifier(train_test)"
   ]
  },
  {
   "cell_type": "markdown",
   "metadata": {},
   "source": [
    "## Kadar Sentimen Negatif"
   ]
  },
  {
   "cell_type": "code",
   "execution_count": 206,
   "metadata": {},
   "outputs": [],
   "source": [
    "from textblob import TextBlob"
   ]
  },
  {
   "cell_type": "code",
   "execution_count": 207,
   "metadata": {},
   "outputs": [],
   "source": [
    "blob = TextBlob(\"The beer is good. But the hangover is horrible.\", classifier = cl)"
   ]
  },
  {
   "cell_type": "code",
   "execution_count": 208,
   "metadata": {},
   "outputs": [
    {
     "data": {
      "text/plain": [
       "'neg'"
      ]
     },
     "execution_count": 208,
     "metadata": {},
     "output_type": "execute_result"
    }
   ],
   "source": [
    "blob.classify()"
   ]
  },
  {
   "cell_type": "code",
   "execution_count": 209,
   "metadata": {},
   "outputs": [],
   "source": [
    "val_sen = cl.prob_classify(blob)"
   ]
  },
  {
   "cell_type": "code",
   "execution_count": 210,
   "metadata": {},
   "outputs": [
    {
     "data": {
      "text/plain": [
       "0.14"
      ]
     },
     "execution_count": 210,
     "metadata": {},
     "output_type": "execute_result"
    }
   ],
   "source": [
    "round(val_sen.prob(\"pos\"), 2)"
   ]
  },
  {
   "cell_type": "code",
   "execution_count": 211,
   "metadata": {},
   "outputs": [
    {
     "name": "stdout",
     "output_type": "stream",
     "text": [
      "The beer is good.\n",
      "pos\n",
      "0.14\n",
      "But the hangover is horrible.\n",
      "neg\n",
      "0.29\n"
     ]
    }
   ],
   "source": [
    "for s in blob.sentences :\n",
    "    print(s)\n",
    "    a = s.classify()\n",
    "    print(a)\n",
    "    val_sen2= cl.prob_classify(s)\n",
    "    print(round(val_sen2.prob(a), 2))"
   ]
  },
  {
   "cell_type": "markdown",
   "metadata": {},
   "source": [
    "###  # PrabowoPresiden"
   ]
  },
  {
   "cell_type": "code",
   "execution_count": 212,
   "metadata": {},
   "outputs": [],
   "source": [
    "data_set = [\n",
    "    (\"Said Aqil Siraj merasa ditampar sama Osama, hingga marah dan minta Kerajaan Arab segera memulangkanya dan mengganti dg yg baru. Sekalian dong... nitip pulangkan segera Jokowi ke Solo! #2019GantiPresiden #2019PrabowoPresiden\"),\n",
    "    (\"Saya hadir di kunjungan ke Balikpapan 25 Nov. Saya bukan anggota partai. Ribuan hadir banyakan simpatisan. Pak PS mencontohkan soal ketimpangan sosial dan menyebut : \\\"tampang2 kayak kalian ini ..\\\". Semua terbahak dan nggak baper. Malah berteriak #2019PrabowoPresiden ! 😎 \"),\n",
    "    (\"Love you full Presiden Jokowi #Jokowi2Periode #Jokowi2Periode #jokowi2periode #2019tetapjokowi\"),\n",
    "    (\"2019 PRESIDEN BARU INSYAA ALLAH, USIR SELURUH TKA CINA KAFIR KOMUNIS DI SELURUH INDONESIA HARGA MATI!!!!DEMI MASYARAKAT ADIL & MAKMUR LEPAS DARI ANCAMAN CINA KAFIR KOMUNIS!!!YG SANGAT NAFSU MAU JAJAH INDON!!!!\"),\n",
    "    (\"Pak @Jokowi menjadi presiden pertama yang berani tenggelamkan kapal pencuri ikan di Laut Indonesia. #HAMuntukKehidupan #01IndonesiaMaju #2019KalahLagi\"),\n",
    "    (\"Goblok, presiden di indonesia ini kalo ngomong memang harus dipikir dulu lah, soalnya di indonesia banyak orang pintar yang tahynya memutarbalikkan fakta.... Emang lo uda buat apa buat indonesiaaaaa. Hidup jokowi..\"),\n",
    "    (\"Sering dibohongi. Sering dikhianati. Tapi. Tetap sabar. Tiada henti ikhtiar membela rakyat, berjuang mewujudkan Indonesia #AdilDanMakmur. Selamat! Anda Pak @prabowo yg kami butuhkan. Dan akan kami pilih utk menjadi Presiden RI Ke 8. #2019GantiPresiden. #2019PrabowoSandi\"),\n",
    "    (\"Terserah lo mau ngomong apa, faktanya Joko Widodo itu Presiden RI sekaligus panglima tertinggi Tentara Nasional Indonesia. Sedang wowo ga lebih dari seorang tentara yg pangkatnya dikatrol krn mantu suharto, dan saat ini statusnya pecatan tentara. 😂😂😂😂😂\"),\n",
    "    (\"Pemilu serentak 2019 Presiden Jokowi mengajak rakyat Indonesia menyambut pesta demokrasi itu dengan kegembiraan, antusiasme yang tinggi, serta kedewasaan politik yang semakin matang. #SetujuPemiluBersih\"),\n",
    "    (\"Hadir MPD GRPG JAMBI, BENGKULU, LAMPUNG, KALTENG. DKI, JABAR Dan BANTEN... RELAWAN GRPG SIAP MEMENANGKAN BAPAK PRABOWO PRESIDEN Di 2019. \"),\n",
    "    (\"saya benar-benar menginginkan Papua yang damai dan sejujurnya para anggota. OPM ataupun simpatisannya selalu menentang usaha-usaha menuju Papua yang damai. #westpapua #freewestpapua #letwestpapuavote #fwpc. #LawanGerakanSeparatis West Papua. #2019GantiPresiden\"),\n",
    "    (\"pilpres harus tetap santun.. mari doakan pak kyai segera sembuh. jasa beliau dalam kasus penistaan agama perlu kita apresiasi.  salam hormat pak kyai.. semoga Allah berikan berkah di hari tuamu.. aamiin saya pilih Prabowo-Sandiaga Uno. #2019GantiPresiden \"),\n",
    "    (\"Insya Alloh dengan ijin Allah dan Ridho Allah #2019GantiPresiden #2019PrabowoSandiMenang #2019PrabowoPresiden #IndonesiaAdilMakmur dan aman sentosa berdasarkan Pantjasila dan UUD1945 serta tegak Nkri tanpa komunis dan kroni2nya seperti aseng dan pengkianat NKRI juga JIL, Syi'ah\"),\n",
    "    (\"Saya ga ada kaitannya sama cebong2an, urusan saya di DPRD nanti sama gubernur DKI, dan saya tetep #2019GantiPresiden ogah ama yg plangah plongo tukang kibul & saya bukan cebong dungu\"),\n",
    "    (\"Cebong juga takut dg kata 'Komunis', 'PKI', seakan-akan diantara mereka memang ada yg berafiliasi dg ideologi tersebut..  #2019GantiPresiden\"),\n",
    "    (\"Aku #SetujuPemiluBersih agar roda perekonomian tetap jalan dan stabil, kita semua rakyat Indonesia dapat jalani hidup keseharian dengan damai dan rukun\"),\n",
    "    (\"Salah satu upaya menciptakan Pemilu yang damai itu, berkampanye dengan cara fokus pada hal yang positif-positif aja,,,  Siapapun yang terpilih, akan memberikan yang terbaik untuk Indonesia tercinta ini. #SetujuPemiluBersih\"),\n",
    "    (\"Kita semua #SetujuPemiluBersih untuk Indonesia Maju. Damai itu indah. \"),\n",
    "    (\"Pemilu yang bersih akan melahirkan pemimpin bersih, pemimpin bersih akan menjalankan pemerintahan bersih #SetujuPemiluBersih\"),\n",
    "    (\"Karena itu, berbagai simpul masyarakat yang peduli terhadap terciptanya pemilu yang jujur dan bersih perlu menunjukkan peran serta aktif untuk ikut mengupayakan sosialisasi dan peningkatan kemampuan pengawasan oleh rakyat.#SetujuPemiluBersih\"),\n",
    "    (\"Ini berarti mayoritas masyarakat menginginkan agar pemilu harus menjadi kontestasi politik yang bersih. \"),\n",
    "    (\"Maka dari itu, faktor transparansi, akuntabilitas dan kejujuran menjadi harga mati, jika semua pihak menginginkan Pemilu berlangsung secara bersih dan demokratis. #SetujuPemiluBersih\"),\n",
    "    (\"JkW orang baik, saya yakin itu! Ada kiasan : cerdik bagaikan ular tulus bagai merpati! Politik membuat pak JkW harus seperti ular, tapi hatinya tetap tulus buat rakyat Indonesia! Singkirkan egomu dan dukung terus. #Jokowi2Periode\"),\n",
    "    (\"Kepintaran, kecerdasan, kewibawaan mrpkn salah 1 modal utk menegakkan Indonesia d International Bandingkan mn yg menguasai masalah & mana yg melemparkan masalah .. Rakyat cerdas akan pandai memilih #Jokowi2Periode  #JokowiMembangunIndonesia  #2019GantiPresiden  #2019PrabowoSandi\"),\n",
    "    (\"Hebat ,, Jaman Jokowi semua diperhatikan Tak luput para Veteran pun mendapat perhatian dgn menaikan tunjangan agar mereka dapat menikmati dn merasakan kesejahtraan dimasa tua nya kurang apa lagi dari jokowi ..  #Jokowi2Periode  #JokowiMarufAmin2019\")\n",
    "]"
   ]
  },
  {
   "cell_type": "code",
   "execution_count": 213,
   "metadata": {},
   "outputs": [],
   "source": [
    "train_set = [\n",
    "    (\"sudah terbukti 4 tahun menjabat, terjadi pemerataan pembangunan di Indonesia\", \"neg\"),\n",
    "    (\"mari kita ciptakan pemilu yang adil dan bersih\", \"net\"),\n",
    "    (\"prabowo siap menang di pilpres 2019\", \"pos\"),\n",
    "    (\"indonesia butuh pembaharuan, 2019 butuh presiden baru\", \"pos\"),\n",
    "    (\"jangan ada lagi perpecahan di bumi Indonesia, bersatu kita teguh\", \"net\"),\n",
    "    (\"prabowo ternyata antek asing\", \"neg\"),\n",
    "    (\"jokowi presiden lagi 2019 #jokowilagi\", \"neg\"),\n",
    "    (\"rakyat indonesia siap dukung jokowi memimpin lagi di tahun 2019 #jokowi2periode\", \"neg\"),\n",
    "    (\"prabowo dinilai gampang tersulut emosi\", \"neg\"),\n",
    "    (\"sandy tidak memiliki etika saat mengunjungi makam beberapa waktu lalu #jokowimaruf2019\", \"neg\"),\n",
    "    (\"reuni 212 terselubung kampanye prabowo-sandy\", \"neg\"),\n",
    "    (\"prabowo untuk RI 2019\", \"pos\"),\n",
    "    (\"muhammadiyah siap dukung prabowo\", \"pos\"),\n",
    "    (\"kita awasi bersama pemilu 2019\", \"net\"),\n",
    "    (\"kita doakan pemilu 2019 berjalan dengan aman dan tertib\", \"net\"),\n",
    "    (\"tim emak-emak indonesia siap dukung sandy\", \"pos\"),\n",
    "    (\"presiden jokowi membuktikan tempe di pasar tidak lebih tipis dibandingkan kartu atm\", \"neg\"),\n",
    "    (\"prabowo dinilai tidak akan bisa memimpin indonesia, memimpin keluarga saja gagal\", \"neg\"),\n",
    "    (\"prabowo jalin silaturahmi dengan warga di reuni 212\", \"pos\"),\n",
    "    (\"saya akan tetap dukung prabowo\", \"pos\"),\n",
    "    (\"prabowo bukan antek asing\", \"pos\"),\n",
    "    (\"masyarakat indonesia berharap yang terbaik untuk hasil pemilu 2019\", \"net\"),\n",
    "    (\"kpu memastikan pemilu 2019 akan berjalan dengan lancar dan tertib\", \"net\"),\n",
    "    (\"masyarakat indonesia dihimbau agar tidak mudah tersulut emosi\", \"net\"),\n",
    "    (\"mahasiswa pulau jawa bersatu untuk mengawasi pemilu 2019\", \"net\"),\n",
    "    (\"kami dukung kpu #pemiludamai #pemilubersih\", \"net\"),\n",
    "    (\"pemerintahan jokowi berhasil meningkatkan perekonomian indonesia\", \"neg\"),\n",
    "    (\"rakyat indonesia ingin ganti presiden\", \"neg\"),\n",
    "    (\"politisi partai pdip berharap jokowi dan maruf menjadi presiden di tahun 2019\", \"neg\"),\n",
    "    (\"komunitas silat indonesia siap memenangkan prabowo dan sandy\", \"pos\"),\n",
    "    (\"pasangan prabowo sandy didukung oleh kaum muda bandung\", \"pos\"),\n",
    "    (\"we stand for kpu\", \"net\")\n",
    "]"
   ]
  },
  {
   "cell_type": "code",
   "execution_count": 214,
   "metadata": {},
   "outputs": [],
   "source": [
    "cl = NaiveBayesClassifier(train_set)"
   ]
  },
  {
   "cell_type": "code",
   "execution_count": 215,
   "metadata": {},
   "outputs": [
    {
     "data": {
      "text/plain": [
       "'pos'"
      ]
     },
     "execution_count": 215,
     "metadata": {},
     "output_type": "execute_result"
    }
   ],
   "source": [
    "cl.classify(\"#2019prabowopresiden\")"
   ]
  },
  {
   "cell_type": "code",
   "execution_count": 216,
   "metadata": {},
   "outputs": [
    {
     "data": {
      "text/plain": [
       "'neg'"
      ]
     },
     "execution_count": 216,
     "metadata": {},
     "output_type": "execute_result"
    }
   ],
   "source": [
    "cl.classify(\"#jokowi2periode\")"
   ]
  },
  {
   "cell_type": "code",
   "execution_count": 217,
   "metadata": {},
   "outputs": [],
   "source": [
    "#probabilitas distirbusi atau kadar sentiment\n",
    "prob_dist_word1 = cl.prob_classify(\"timses nomor 2 siap memenangkan prabowo sandy\")"
   ]
  },
  {
   "cell_type": "code",
   "execution_count": 218,
   "metadata": {},
   "outputs": [
    {
     "data": {
      "text/plain": [
       "'pos'"
      ]
     },
     "execution_count": 218,
     "metadata": {},
     "output_type": "execute_result"
    }
   ],
   "source": [
    "prob_dist_word1.max()"
   ]
  },
  {
   "cell_type": "code",
   "execution_count": 219,
   "metadata": {},
   "outputs": [
    {
     "data": {
      "text/plain": [
       "0.999"
      ]
     },
     "execution_count": 219,
     "metadata": {},
     "output_type": "execute_result"
    }
   ],
   "source": [
    "# using round function\n",
    "round(prob_dist_word1.prob(\"pos\"), 3)"
   ]
  },
  {
   "cell_type": "code",
   "execution_count": 220,
   "metadata": {},
   "outputs": [
    {
     "data": {
      "text/plain": [
       "0.001"
      ]
     },
     "execution_count": 220,
     "metadata": {},
     "output_type": "execute_result"
    }
   ],
   "source": [
    "round(prob_dist_word1.prob(\"neg\"), 3)"
   ]
  },
  {
   "cell_type": "code",
   "execution_count": 221,
   "metadata": {},
   "outputs": [
    {
     "data": {
      "text/plain": [
       "0.0"
      ]
     },
     "execution_count": 221,
     "metadata": {},
     "output_type": "execute_result"
    }
   ],
   "source": [
    "round(prob_dist_word1.prob(\"net\"), 3)"
   ]
  },
  {
   "cell_type": "code",
   "execution_count": 222,
   "metadata": {},
   "outputs": [],
   "source": [
    "prob_dist_word2 = cl.prob_classify(\"jokowi mendapatkan hati masyarakat karena berhasil menaikkan pendapatan negara\")"
   ]
  },
  {
   "cell_type": "code",
   "execution_count": 223,
   "metadata": {},
   "outputs": [
    {
     "data": {
      "text/plain": [
       "'neg'"
      ]
     },
     "execution_count": 223,
     "metadata": {},
     "output_type": "execute_result"
    }
   ],
   "source": [
    "prob_dist_word2.max()"
   ]
  },
  {
   "cell_type": "code",
   "execution_count": 224,
   "metadata": {},
   "outputs": [
    {
     "data": {
      "text/plain": [
       "0.04"
      ]
     },
     "execution_count": 224,
     "metadata": {},
     "output_type": "execute_result"
    }
   ],
   "source": [
    "round(prob_dist_word2.prob(\"pos\"), 3)"
   ]
  },
  {
   "cell_type": "code",
   "execution_count": 225,
   "metadata": {},
   "outputs": [
    {
     "data": {
      "text/plain": [
       "0.903"
      ]
     },
     "execution_count": 225,
     "metadata": {},
     "output_type": "execute_result"
    }
   ],
   "source": [
    "round(prob_dist_word2.prob(\"neg\"), 3)"
   ]
  },
  {
   "cell_type": "code",
   "execution_count": 226,
   "metadata": {},
   "outputs": [
    {
     "data": {
      "text/plain": [
       "0.057"
      ]
     },
     "execution_count": 226,
     "metadata": {},
     "output_type": "execute_result"
    }
   ],
   "source": [
    "round(prob_dist_word2.prob(\"net\"), 3)"
   ]
  },
  {
   "cell_type": "markdown",
   "metadata": {},
   "source": [
    "## Sentimen Analysis"
   ]
  },
  {
   "cell_type": "markdown",
   "metadata": {},
   "source": [
    "#### polarity negatif = komentar (sentimen) negatif"
   ]
  },
  {
   "cell_type": "code",
   "execution_count": 227,
   "metadata": {},
   "outputs": [],
   "source": [
    "from textblob import TextBlob as tb\n",
    "import re"
   ]
  },
  {
   "cell_type": "code",
   "execution_count": 228,
   "metadata": {},
   "outputs": [],
   "source": [
    "## using re.sub function => re.sub(pattern,repl,string)\n",
    "cleanText = []\n",
    "for sent in data_set :\n",
    "    clean_result = re.sub(\"(?<!\\d)[,;:@](?!\\d)\", \"\", sent)\n",
    "    cleanText.append(clean_result)"
   ]
  },
  {
   "cell_type": "code",
   "execution_count": 229,
   "metadata": {},
   "outputs": [
    {
     "data": {
      "text/plain": [
       "['Said Aqil Siraj merasa ditampar sama Osama hingga marah dan minta Kerajaan Arab segera memulangkanya dan mengganti dg yg baru. Sekalian dong... nitip pulangkan segera Jokowi ke Solo! #2019GantiPresiden #2019PrabowoPresiden',\n",
       " 'Saya hadir di kunjungan ke Balikpapan 25 Nov. Saya bukan anggota partai. Ribuan hadir banyakan simpatisan. Pak PS mencontohkan soal ketimpangan sosial dan menyebut  \"tampang2 kayak kalian ini ..\". Semua terbahak dan nggak baper. Malah berteriak #2019PrabowoPresiden ! 😎 ',\n",
       " 'Love you full Presiden Jokowi #Jokowi2Periode #Jokowi2Periode #jokowi2periode #2019tetapjokowi',\n",
       " '2019 PRESIDEN BARU INSYAA ALLAH USIR SELURUH TKA CINA KAFIR KOMUNIS DI SELURUH INDONESIA HARGA MATI!!!!DEMI MASYARAKAT ADIL & MAKMUR LEPAS DARI ANCAMAN CINA KAFIR KOMUNIS!!!YG SANGAT NAFSU MAU JAJAH INDON!!!!',\n",
       " 'Pak Jokowi menjadi presiden pertama yang berani tenggelamkan kapal pencuri ikan di Laut Indonesia. #HAMuntukKehidupan #01IndonesiaMaju #2019KalahLagi',\n",
       " 'Goblok presiden di indonesia ini kalo ngomong memang harus dipikir dulu lah soalnya di indonesia banyak orang pintar yang tahynya memutarbalikkan fakta.... Emang lo uda buat apa buat indonesiaaaaa. Hidup jokowi..',\n",
       " 'Sering dibohongi. Sering dikhianati. Tapi. Tetap sabar. Tiada henti ikhtiar membela rakyat berjuang mewujudkan Indonesia #AdilDanMakmur. Selamat! Anda Pak prabowo yg kami butuhkan. Dan akan kami pilih utk menjadi Presiden RI Ke 8. #2019GantiPresiden. #2019PrabowoSandi',\n",
       " 'Terserah lo mau ngomong apa faktanya Joko Widodo itu Presiden RI sekaligus panglima tertinggi Tentara Nasional Indonesia. Sedang wowo ga lebih dari seorang tentara yg pangkatnya dikatrol krn mantu suharto dan saat ini statusnya pecatan tentara. 😂😂😂😂😂',\n",
       " 'Pemilu serentak 2019 Presiden Jokowi mengajak rakyat Indonesia menyambut pesta demokrasi itu dengan kegembiraan antusiasme yang tinggi serta kedewasaan politik yang semakin matang. #SetujuPemiluBersih',\n",
       " 'Hadir MPD GRPG JAMBI BENGKULU LAMPUNG KALTENG. DKI JABAR Dan BANTEN... RELAWAN GRPG SIAP MEMENANGKAN BAPAK PRABOWO PRESIDEN Di 2019. ',\n",
       " 'saya benar-benar menginginkan Papua yang damai dan sejujurnya para anggota. OPM ataupun simpatisannya selalu menentang usaha-usaha menuju Papua yang damai. #westpapua #freewestpapua #letwestpapuavote #fwpc. #LawanGerakanSeparatis West Papua. #2019GantiPresiden',\n",
       " 'pilpres harus tetap santun.. mari doakan pak kyai segera sembuh. jasa beliau dalam kasus penistaan agama perlu kita apresiasi.  salam hormat pak kyai.. semoga Allah berikan berkah di hari tuamu.. aamiin saya pilih Prabowo-Sandiaga Uno. #2019GantiPresiden ',\n",
       " \"Insya Alloh dengan ijin Allah dan Ridho Allah #2019GantiPresiden #2019PrabowoSandiMenang #2019PrabowoPresiden #IndonesiaAdilMakmur dan aman sentosa berdasarkan Pantjasila dan UUD1945 serta tegak Nkri tanpa komunis dan kroni2nya seperti aseng dan pengkianat NKRI juga JIL Syi'ah\",\n",
       " 'Saya ga ada kaitannya sama cebong2an urusan saya di DPRD nanti sama gubernur DKI dan saya tetep #2019GantiPresiden ogah ama yg plangah plongo tukang kibul & saya bukan cebong dungu',\n",
       " \"Cebong juga takut dg kata 'Komunis' 'PKI' seakan-akan diantara mereka memang ada yg berafiliasi dg ideologi tersebut..  #2019GantiPresiden\",\n",
       " 'Aku #SetujuPemiluBersih agar roda perekonomian tetap jalan dan stabil kita semua rakyat Indonesia dapat jalani hidup keseharian dengan damai dan rukun',\n",
       " 'Salah satu upaya menciptakan Pemilu yang damai itu berkampanye dengan cara fokus pada hal yang positif-positif aja  Siapapun yang terpilih akan memberikan yang terbaik untuk Indonesia tercinta ini. #SetujuPemiluBersih',\n",
       " 'Kita semua #SetujuPemiluBersih untuk Indonesia Maju. Damai itu indah. ',\n",
       " 'Pemilu yang bersih akan melahirkan pemimpin bersih pemimpin bersih akan menjalankan pemerintahan bersih #SetujuPemiluBersih',\n",
       " 'Karena itu berbagai simpul masyarakat yang peduli terhadap terciptanya pemilu yang jujur dan bersih perlu menunjukkan peran serta aktif untuk ikut mengupayakan sosialisasi dan peningkatan kemampuan pengawasan oleh rakyat.#SetujuPemiluBersih',\n",
       " 'Ini berarti mayoritas masyarakat menginginkan agar pemilu harus menjadi kontestasi politik yang bersih. ',\n",
       " 'Maka dari itu faktor transparansi akuntabilitas dan kejujuran menjadi harga mati jika semua pihak menginginkan Pemilu berlangsung secara bersih dan demokratis. #SetujuPemiluBersih',\n",
       " 'JkW orang baik saya yakin itu! Ada kiasan  cerdik bagaikan ular tulus bagai merpati! Politik membuat pak JkW harus seperti ular tapi hatinya tetap tulus buat rakyat Indonesia! Singkirkan egomu dan dukung terus. #Jokowi2Periode',\n",
       " 'Kepintaran kecerdasan kewibawaan mrpkn salah 1 modal utk menegakkan Indonesia d International Bandingkan mn yg menguasai masalah & mana yg melemparkan masalah .. Rakyat cerdas akan pandai memilih #Jokowi2Periode  #JokowiMembangunIndonesia  #2019GantiPresiden  #2019PrabowoSandi',\n",
       " 'Hebat  Jaman Jokowi semua diperhatikan Tak luput para Veteran pun mendapat perhatian dgn menaikan tunjangan agar mereka dapat menikmati dn merasakan kesejahtraan dimasa tua nya kurang apa lagi dari jokowi ..  #Jokowi2Periode  #JokowiMarufAmin2019']"
      ]
     },
     "execution_count": 229,
     "metadata": {},
     "output_type": "execute_result"
    }
   ],
   "source": [
    "cleanText"
   ]
  },
  {
   "cell_type": "code",
   "execution_count": 247,
   "metadata": {},
   "outputs": [],
   "source": [
    "sentimen_sent = []\n",
    "pos = ''\n",
    "neg = ''\n",
    "net = ''\n",
    "\n",
    "for sent in cleanText :\n",
    "    sentence = cl.classify(sent);\n",
    "    if (sentence == 'pos') :\n",
    "        pos += sent\n",
    "        sentimen_sent.append('pos')\n",
    "    elif (sentence == 'neg') :\n",
    "        neg += sent\n",
    "        sentimen_sent.append('neg')\n",
    "    else :\n",
    "        net += sent\n",
    "        sentimen_sent.append('net')\n",
    "    val_sen2 = cl.prob_classify(sent)"
   ]
  },
  {
   "cell_type": "code",
   "execution_count": 248,
   "metadata": {},
   "outputs": [
    {
     "name": "stdout",
     "output_type": "stream",
     "text": [
      "<ProbDist with 3 samples>\n"
     ]
    }
   ],
   "source": [
    "print(val_sen2)"
   ]
  },
  {
   "cell_type": "code",
   "execution_count": 258,
   "metadata": {},
   "outputs": [
    {
     "name": "stdout",
     "output_type": "stream",
     "text": [
      "['pos', 'pos', 'neg', 'pos', 'neg', 'neg', 'pos', 'neg', 'net', 'pos', 'net', 'pos', 'net', 'pos', 'pos', 'net', 'net', 'net', 'net', 'net', 'net', 'net', 'pos', 'neg', 'neg']\n"
     ]
    }
   ],
   "source": [
    "print(sentimen_sent)"
   ]
  },
  {
   "cell_type": "code",
   "execution_count": 249,
   "metadata": {},
   "outputs": [
    {
     "data": {
      "text/plain": [
       "'Said Aqil Siraj merasa ditampar sama Osama hingga marah dan minta Kerajaan Arab segera memulangkanya dan mengganti dg yg baru. Sekalian dong... nitip pulangkan segera Jokowi ke Solo! #2019GantiPresiden #2019PrabowoPresidenSaya hadir di kunjungan ke Balikpapan 25 Nov. Saya bukan anggota partai. Ribuan hadir banyakan simpatisan. Pak PS mencontohkan soal ketimpangan sosial dan menyebut  \"tampang2 kayak kalian ini ..\". Semua terbahak dan nggak baper. Malah berteriak #2019PrabowoPresiden ! 😎 2019 PRESIDEN BARU INSYAA ALLAH USIR SELURUH TKA CINA KAFIR KOMUNIS DI SELURUH INDONESIA HARGA MATI!!!!DEMI MASYARAKAT ADIL & MAKMUR LEPAS DARI ANCAMAN CINA KAFIR KOMUNIS!!!YG SANGAT NAFSU MAU JAJAH INDON!!!!Sering dibohongi. Sering dikhianati. Tapi. Tetap sabar. Tiada henti ikhtiar membela rakyat berjuang mewujudkan Indonesia #AdilDanMakmur. Selamat! Anda Pak prabowo yg kami butuhkan. Dan akan kami pilih utk menjadi Presiden RI Ke 8. #2019GantiPresiden. #2019PrabowoSandiHadir MPD GRPG JAMBI BENGKULU LAMPUNG KALTENG. DKI JABAR Dan BANTEN... RELAWAN GRPG SIAP MEMENANGKAN BAPAK PRABOWO PRESIDEN Di 2019. pilpres harus tetap santun.. mari doakan pak kyai segera sembuh. jasa beliau dalam kasus penistaan agama perlu kita apresiasi.  salam hormat pak kyai.. semoga Allah berikan berkah di hari tuamu.. aamiin saya pilih Prabowo-Sandiaga Uno. #2019GantiPresiden Saya ga ada kaitannya sama cebong2an urusan saya di DPRD nanti sama gubernur DKI dan saya tetep #2019GantiPresiden ogah ama yg plangah plongo tukang kibul & saya bukan cebong dunguCebong juga takut dg kata \\'Komunis\\' \\'PKI\\' seakan-akan diantara mereka memang ada yg berafiliasi dg ideologi tersebut..  #2019GantiPresidenJkW orang baik saya yakin itu! Ada kiasan  cerdik bagaikan ular tulus bagai merpati! Politik membuat pak JkW harus seperti ular tapi hatinya tetap tulus buat rakyat Indonesia! Singkirkan egomu dan dukung terus. #Jokowi2Periode'"
      ]
     },
     "execution_count": 249,
     "metadata": {},
     "output_type": "execute_result"
    }
   ],
   "source": [
    "pos"
   ]
  },
  {
   "cell_type": "code",
   "execution_count": 250,
   "metadata": {},
   "outputs": [
    {
     "data": {
      "text/plain": [
       "\"Pemilu serentak 2019 Presiden Jokowi mengajak rakyat Indonesia menyambut pesta demokrasi itu dengan kegembiraan antusiasme yang tinggi serta kedewasaan politik yang semakin matang. #SetujuPemiluBersihsaya benar-benar menginginkan Papua yang damai dan sejujurnya para anggota. OPM ataupun simpatisannya selalu menentang usaha-usaha menuju Papua yang damai. #westpapua #freewestpapua #letwestpapuavote #fwpc. #LawanGerakanSeparatis West Papua. #2019GantiPresidenInsya Alloh dengan ijin Allah dan Ridho Allah #2019GantiPresiden #2019PrabowoSandiMenang #2019PrabowoPresiden #IndonesiaAdilMakmur dan aman sentosa berdasarkan Pantjasila dan UUD1945 serta tegak Nkri tanpa komunis dan kroni2nya seperti aseng dan pengkianat NKRI juga JIL Syi'ahAku #SetujuPemiluBersih agar roda perekonomian tetap jalan dan stabil kita semua rakyat Indonesia dapat jalani hidup keseharian dengan damai dan rukunSalah satu upaya menciptakan Pemilu yang damai itu berkampanye dengan cara fokus pada hal yang positif-positif aja  Siapapun yang terpilih akan memberikan yang terbaik untuk Indonesia tercinta ini. #SetujuPemiluBersihKita semua #SetujuPemiluBersih untuk Indonesia Maju. Damai itu indah. Pemilu yang bersih akan melahirkan pemimpin bersih pemimpin bersih akan menjalankan pemerintahan bersih #SetujuPemiluBersihKarena itu berbagai simpul masyarakat yang peduli terhadap terciptanya pemilu yang jujur dan bersih perlu menunjukkan peran serta aktif untuk ikut mengupayakan sosialisasi dan peningkatan kemampuan pengawasan oleh rakyat.#SetujuPemiluBersihIni berarti mayoritas masyarakat menginginkan agar pemilu harus menjadi kontestasi politik yang bersih. Maka dari itu faktor transparansi akuntabilitas dan kejujuran menjadi harga mati jika semua pihak menginginkan Pemilu berlangsung secara bersih dan demokratis. #SetujuPemiluBersih\""
      ]
     },
     "execution_count": 250,
     "metadata": {},
     "output_type": "execute_result"
    }
   ],
   "source": [
    "net"
   ]
  },
  {
   "cell_type": "code",
   "execution_count": 251,
   "metadata": {},
   "outputs": [
    {
     "data": {
      "text/plain": [
       "'Love you full Presiden Jokowi #Jokowi2Periode #Jokowi2Periode #jokowi2periode #2019tetapjokowiPak Jokowi menjadi presiden pertama yang berani tenggelamkan kapal pencuri ikan di Laut Indonesia. #HAMuntukKehidupan #01IndonesiaMaju #2019KalahLagiGoblok presiden di indonesia ini kalo ngomong memang harus dipikir dulu lah soalnya di indonesia banyak orang pintar yang tahynya memutarbalikkan fakta.... Emang lo uda buat apa buat indonesiaaaaa. Hidup jokowi..Terserah lo mau ngomong apa faktanya Joko Widodo itu Presiden RI sekaligus panglima tertinggi Tentara Nasional Indonesia. Sedang wowo ga lebih dari seorang tentara yg pangkatnya dikatrol krn mantu suharto dan saat ini statusnya pecatan tentara. 😂😂😂😂😂Kepintaran kecerdasan kewibawaan mrpkn salah 1 modal utk menegakkan Indonesia d International Bandingkan mn yg menguasai masalah & mana yg melemparkan masalah .. Rakyat cerdas akan pandai memilih #Jokowi2Periode  #JokowiMembangunIndonesia  #2019GantiPresiden  #2019PrabowoSandiHebat  Jaman Jokowi semua diperhatikan Tak luput para Veteran pun mendapat perhatian dgn menaikan tunjangan agar mereka dapat menikmati dn merasakan kesejahtraan dimasa tua nya kurang apa lagi dari jokowi ..  #Jokowi2Periode  #JokowiMarufAmin2019'"
      ]
     },
     "execution_count": 251,
     "metadata": {},
     "output_type": "execute_result"
    }
   ],
   "source": [
    "neg"
   ]
  },
  {
   "cell_type": "code",
   "execution_count": null,
   "metadata": {},
   "outputs": [],
   "source": []
  },
  {
   "cell_type": "markdown",
   "metadata": {},
   "source": [
    "## Validasi Data Dengan Pyplot"
   ]
  },
  {
   "cell_type": "code",
   "execution_count": 256,
   "metadata": {},
   "outputs": [],
   "source": [
    "import matplotlib.pyplot as plt\n",
    "def PieChart(score, labels) :\n",
    "    fig1 = plt.figure();\n",
    "    fig1.add_subplot(111)\n",
    "    plt.pie(score, labels = labels, autopct = '&1.1f%%', startangle = 140)\n",
    "    plt.axis('equal');\n",
    "    plt.show()\n",
    "    return None"
   ]
  },
  {
   "cell_type": "code",
   "execution_count": 257,
   "metadata": {},
   "outputs": [
    {
     "name": "stdout",
     "output_type": "stream",
     "text": [
      "pos\n",
      "pos\n",
      "neg\n",
      "pos\n",
      "neg\n",
      "neg\n",
      "pos\n",
      "neg\n",
      "net\n",
      "pos\n",
      "net\n",
      "pos\n",
      "net\n",
      "pos\n",
      "pos\n",
      "net\n",
      "net\n",
      "net\n",
      "net\n",
      "net\n",
      "net\n",
      "net\n",
      "pos\n",
      "neg\n",
      "neg\n",
      "[9, 6, 10]\n"
     ]
    },
    {
     "data": {
      "image/png": "[encoded data removed]",
      "text/plain": [
       "<Figure size 432x288 with 1 Axes>"
      ]
     },
     "metadata": {},
     "output_type": "display_data"
    }
   ],
   "source": [
    "for i in sentimen_sent :\n",
    "    print(i)\n",
    "    score_sentimen_sent = [len([True for t in sentimen_sent if t=='pos']), len([True for t in sentimen_sent if t == 'neg']), len([True for t in sentimen_sent if t=='net'])]\n",
    "    \n",
    "print(score_sentimen_sent)\n",
    "label_se = ['positif', 'negatif', 'netral']\n",
    "PieChart(score_sentimen_sent, label_se)"
   ]
  },
  {
   "cell_type": "code",
   "execution_count": null,
   "metadata": {},
   "outputs": [],
   "source": []
  }
 ],
 "metadata": {
  "kernelspec": {
   "display_name": "Python 3",
   "language": "python",
   "name": "python3"
  },
  "language_info": {
   "codemirror_mode": {
    "name": "ipython",
    "version": 3
   },
   "file_extension": ".py",
   "mimetype": "text/x-python",
   "name": "python",
   "nbconvert_exporter": "python",
   "pygments_lexer": "ipython3",
   "version": "3.6.5"
  }
 },
 "nbformat": 4,
 "nbformat_minor": 2
}
