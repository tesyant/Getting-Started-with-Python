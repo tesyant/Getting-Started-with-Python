{
 "cells": [
  {
   "cell_type": "markdown",
   "metadata": {},
   "source": [
    "# collecting the sentences"
   ]
  },
  {
   "cell_type": "code",
   "execution_count": 1,
   "metadata": {},
   "outputs": [
    {
     "name": "stdout",
     "output_type": "stream",
     "text": [
      "['Sarimin pergi ke pasar naik motor', 'monyet suka makan pisang', 'kucing sangat suka ikan asin', 'Saya suka bakso urat']\n"
     ]
    }
   ],
   "source": [
    "kalimat1 = \"Sarimin pergi ke pasar naik motor\"\n",
    "kalimat2 = \"monyet suka makan pisang\"\n",
    "kalimat3 = \"kucing sangat suka ikan asin\"\n",
    "kalimat4 = \"Saya suka bakso urat\"\n",
    "\n",
    "list_kal = [kalimat1, kalimat2, kalimat3, kalimat4]\n",
    "print(list_kal)"
   ]
  },
  {
   "cell_type": "markdown",
   "metadata": {},
   "source": [
    "# count centences length"
   ]
  },
  {
   "cell_type": "code",
   "execution_count": 3,
   "metadata": {},
   "outputs": [
    {
     "name": "stdout",
     "output_type": "stream",
     "text": [
      "[['Sarimin pergi ke pasar naik motor', 33], ['monyet suka makan pisang', 24], ['kucing sangat suka ikan asin', 28], ['Saya suka bakso urat', 20]]\n"
     ]
    }
   ],
   "source": [
    "panjang_kalimat = [[kalimat1, len(kalimat1)],\n",
    "              [kalimat2, len(kalimat2)],\n",
    "              [kalimat3, len(kalimat3)],\n",
    "              [kalimat4, len(kalimat4)]]\n",
    "print(panjang_kalimat)"
   ]
  },
  {
   "cell_type": "markdown",
   "metadata": {},
   "source": [
    "# count the word"
   ]
  },
  {
   "cell_type": "code",
   "execution_count": 8,
   "metadata": {},
   "outputs": [
    {
     "name": "stdout",
     "output_type": "stream",
     "text": [
      "[['Sarimin pergi ke pasar naik motor', 6], ['monyet suka makan pisang', 4], ['kucing sangat suka ikan asin', 5], ['Saya suka bakso urat', 4]]\n"
     ]
    }
   ],
   "source": [
    "jumlah_kata = [[kalimat1, len(str.split(kalimat1))],\n",
    "              [kalimat2, len(str.split(kalimat2))],\n",
    "              [kalimat3, len(str.split(kalimat3))],\n",
    "              [kalimat4, len(str.split(kalimat4))]]\n",
    "\n",
    "print(jumlah_kata)"
   ]
  },
  {
   "cell_type": "markdown",
   "metadata": {},
   "source": [
    "# count the words and sentences length"
   ]
  },
  {
   "cell_type": "code",
   "execution_count": 9,
   "metadata": {},
   "outputs": [
    {
     "name": "stdout",
     "output_type": "stream",
     "text": [
      "[['Sarimin pergi ke pasar naik motor', 33, 6], ['monyet suka makan pisang', 24, 4], ['kucing sangat suka ikan asin', 28, 5], ['Saya suka bakso urat', 20, 4]]\n"
     ]
    }
   ],
   "source": [
    "count_all = [[kalimat1, len(kalimat1), len(str.split(kalimat1))],\n",
    "            [kalimat2, len(kalimat2), len(str.split(kalimat2))],\n",
    "            [kalimat3, len(kalimat3), len(str.split(kalimat3))],\n",
    "            [kalimat4, len(kalimat4), len(str.split(kalimat4))]]\n",
    "\n",
    "print(count_all)"
   ]
  }
 ],
 "metadata": {
  "kernelspec": {
   "display_name": "Python 3",
   "language": "python",
   "name": "python3"
  },
  "language_info": {
   "codemirror_mode": {
    "name": "ipython",
    "version": 3
   },
   "file_extension": ".py",
   "mimetype": "text/x-python",
   "name": "python",
   "nbconvert_exporter": "python",
   "pygments_lexer": "ipython3",
   "version": "3.6.5"
  }
 },
 "nbformat": 4,
 "nbformat_minor": 2
}
