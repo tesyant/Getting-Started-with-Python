{
 "cells": [
  {
   "cell_type": "code",
   "execution_count": 4,
   "metadata": {
    "collapsed": true
   },
   "outputs": [],
   "source": [
    "from textblob import TextBlob as tb"
   ]
  },
  {
   "cell_type": "code",
   "execution_count": 5,
   "metadata": {
    "collapsed": true
   },
   "outputs": [],
   "source": [
    "tweet=tb(\"\"\"Capres gendeng,, insyah allah keluarga, teman, saudarau aq tdk akan memilih prabowo sandi.\n",
    "    Gendeng orang2 sekitarku enggan pilih prabowo, tak tanya tanya lg ternyata dia terpengaruh metro tv wah gawat tolong sadarkn orang2 skitar anda metro tv bisa merubah pandangan orang sekitar anda ayo berbenah.. #PrabowoSandi #2019GantiPresiden #BoikotMetroTV.\n",
    "    Yaaa jendral kardus. .. ceroboh bin sableng bin gendeng bin bento bin gilaaa heeerrrr hoaxk bin ngibul bin bocoooor...kualisi Gerindra hancur lebur...Dening... Samodra Asmak ul Alfatihah F 1 hingga F 57.. ALLAAHU Akbar 1 17 99 x.\n",
    "    Saya mengerti bahwa banyak orang yang memberikan suara untuk pembicaraan Prabowo tentang Jokowi dan para pengikutnya dan sebaliknya. Tapi tidak SEMUA ORANG memilih untuk masing-masing kandidat masing-masing memiliki waktu untuk memukul bc lain beberapa dari kita memiliki hal-hal yang lebih baik untuk dilakukan sialan.\n",
    "    Saya pemilih Pak Prabowo dulu tapi pas liat kerja pak jokowi saya mutusin buat milih beliau pilpres selanjutnya. Sesepele nangis pas liat beliau di papua dan banyak sekali orang yang sayang ke beliau hehehhehe.\n",
    "    Suruh jokowi nangis di balik selimut.\n",
    "    Kalo ada yg bilang pak @prabowo antek asing..sumpal mulutnya dengan berita ini..INI PERUSAHAAN PERSONAL ya..bukan PUNYA NEGARA.\n",
    "    Dikawatirkan prabowo makin nangis merengek2 spy bisa naik motor....\n",
    "    Apresiasi buat Pak Prabowo yg lebih pentingkan kesejukan dg minta maaf dalam masalah \"tampang Boyolali\". Mudah2an kubu Pak Jokowi juga pilih jalan yang sama jika hadapi hal serupa. Jika bangsa terancam pecah, kedua capres kita harus memilih menyelamatkan ketimbang penuhi ambisi.\n",
    "    Calon presiden nomor 02 lagi antrian disunat....? Kalau Prabowo disunat kan udah dua kali apanya lagi ya......???.\n",
    "    \"\"\")"
   ]
  },
  {
   "cell_type": "code",
   "execution_count": 15,
   "metadata": {},
   "outputs": [],
   "source": [
    "en_tweet=tweet.translate(to='en')"
   ]
  },
  {
   "cell_type": "code",
   "execution_count": 16,
   "metadata": {},
   "outputs": [
    {
     "data": {
      "text/plain": [
       "[Sentence(\"Gendeng presidential candidate, God willing, family, friends, I will not choose a password for prowo.\"),\n",
       " Sentence(\"Fat people around me are reluctant to choose Prabowo, did not ask me, it turns out he was affected by metro TV Wah, please help, sadly, people around you, Metro TV can change the views of people around you, let's clean up ... #PrabowoSandi # 2019GantiPresident #BoikotMetroTV.\"),\n",
       " Sentence(\"Yes, the cardboard general.\"),\n",
       " Sentence(\"... careless bin sableng bin gendeng bin bento bin gilaaa heeerrrr hoaxk bin ngibul bin bocoooor ... the Gerindra quality was destroyed ... Dening ... Samodra Asmak ul Alfatihah F 1 to F 57 .. ALLAAHU Akbar 1 17 99 x.\n",
       "     I understand that many people voted for Prabowo's talks about Jokowi and his followers and vice versa.\"),\n",
       " Sentence(\"But not EVERYONE chooses for each candidate each has time to hit another bc some of us have better things to do damn.\"),\n",
       " Sentence(\"I am a voter, Pak Prabowo, but when I see the work of Pak Jokowi, I decided to choose him for the next presidential election.\"),\n",
       " Sentence(\"Sesepele cried when he saw him in Papua and so many people loved him hehehhehe.\"),\n",
       " Sentence(\"Have jokowi cry behind the blanket.\"),\n",
       " Sentence(\"If anyone says sir @prabowo is a foreign stooge ... spilled his mouth with this news ...\"),\n",
       " Sentence(\"THIS IS A PERSONAL COMPANY huh ... NOT HAVE A COUNTRY.\"),\n",
       " Sentence(\"It is feared that Prabowo is crying more and more about being able to ride a motorcycle ...\"),\n",
       " Sentence(\"Appreciation for Mr. Prabowo who is more important for coolness apologizing in the matter of \"the appearance of Boyolali\".\"),\n",
       " Sentence(\"It's easy for Pak Jokowi's camp to choose the same road if they face the same thing.\"),\n",
       " Sentence(\"If the nation is threatened with rupture, our two candidates must choose to save rather than fulfill their ambitions.\"),\n",
       " Sentence(\"Number 02 presidential candidate again is the circumcision queue ...?\"),\n",
       " Sentence(\"If Prabowo is circumcised, what are you going to do twice?\")]"
      ]
     },
     "execution_count": 16,
     "metadata": {},
     "output_type": "execute_result"
    }
   ],
   "source": [
    "pchkal=en_tweet.sentences\n",
    "pchkal"
   ]
  },
  {
   "cell_type": "code",
   "execution_count": 17,
   "metadata": {},
   "outputs": [
    {
     "name": "stdout",
     "output_type": "stream",
     "text": [
      "Gendeng presidential candidate, God willing, family, friends, I will not choose a password for prowo.\n",
      "skor sentimen = \n",
      " Sentiment(polarity=0.25, subjectivity=0.75)\n",
      "sentimen polarity =  0.25\n",
      "=============================================================\n",
      "Fat people around me are reluctant to choose Prabowo, did not ask me, it turns out he was affected by metro TV Wah, please help, sadly, people around you, Metro TV can change the views of people around you, let's clean up ... #PrabowoSandi # 2019GantiPresident #BoikotMetroTV.\n",
      "skor sentimen = \n",
      " Sentiment(polarity=-0.06666666666666665, subjectivity=0.8500000000000001)\n",
      "sentimen polarity =  -0.06666666666666665\n",
      "=============================================================\n",
      "Yes, the cardboard general.\n",
      "skor sentimen = \n",
      " Sentiment(polarity=0.05000000000000002, subjectivity=0.5)\n",
      "sentimen polarity =  0.05000000000000002\n",
      "=============================================================\n",
      "... careless bin sableng bin gendeng bin bento bin gilaaa heeerrrr hoaxk bin ngibul bin bocoooor ... the Gerindra quality was destroyed ... Dening ... Samodra Asmak ul Alfatihah F 1 to F 57 .. ALLAAHU Akbar 1 17 99 x.\n",
      "    I understand that many people voted for Prabowo's talks about Jokowi and his followers and vice versa.\n",
      "skor sentimen = \n",
      " Sentiment(polarity=0.0, subjectivity=0.7)\n",
      "sentimen polarity =  0.0\n",
      "=============================================================\n",
      "But not EVERYONE chooses for each candidate each has time to hit another bc some of us have better things to do damn.\n",
      "skor sentimen = \n",
      " Sentiment(polarity=0.5, subjectivity=0.5)\n",
      "sentimen polarity =  0.5\n",
      "=============================================================\n",
      "I am a voter, Pak Prabowo, but when I see the work of Pak Jokowi, I decided to choose him for the next presidential election.\n",
      "skor sentimen = \n",
      " Sentiment(polarity=0.0, subjectivity=0.0)\n",
      "sentimen polarity =  0.0\n",
      "=============================================================\n",
      "Sesepele cried when he saw him in Papua and so many people loved him hehehhehe.\n",
      "skor sentimen = \n",
      " Sentiment(polarity=0.6, subjectivity=0.65)\n",
      "sentimen polarity =  0.6\n",
      "=============================================================\n",
      "Have jokowi cry behind the blanket.\n",
      "skor sentimen = \n",
      " Sentiment(polarity=-0.4, subjectivity=0.7)\n",
      "sentimen polarity =  -0.4\n",
      "=============================================================\n",
      "If anyone says sir @prabowo is a foreign stooge ... spilled his mouth with this news ...\n",
      "skor sentimen = \n",
      " Sentiment(polarity=-0.125, subjectivity=0.125)\n",
      "sentimen polarity =  -0.125\n",
      "=============================================================\n",
      "THIS IS A PERSONAL COMPANY huh ... NOT HAVE A COUNTRY.\n",
      "skor sentimen = \n",
      " Sentiment(polarity=0.0, subjectivity=0.3)\n",
      "sentimen polarity =  0.0\n",
      "=============================================================\n",
      "It is feared that Prabowo is crying more and more about being able to ride a motorcycle ...\n",
      "skor sentimen = \n",
      " Sentiment(polarity=0.325, subjectivity=0.55625)\n",
      "sentimen polarity =  0.325\n",
      "=============================================================\n",
      "Appreciation for Mr. Prabowo who is more important for coolness apologizing in the matter of \"the appearance of Boyolali\".\n",
      "skor sentimen = \n",
      " Sentiment(polarity=0.45, subjectivity=0.75)\n",
      "sentimen polarity =  0.45\n",
      "=============================================================\n",
      "It's easy for Pak Jokowi's camp to choose the same road if they face the same thing.\n",
      "skor sentimen = \n",
      " Sentiment(polarity=0.14444444444444446, subjectivity=0.36111111111111116)\n",
      "sentimen polarity =  0.14444444444444446\n",
      "=============================================================\n",
      "If the nation is threatened with rupture, our two candidates must choose to save rather than fulfill their ambitions.\n",
      "skor sentimen = \n",
      " Sentiment(polarity=0.0, subjectivity=0.0)\n",
      "sentimen polarity =  0.0\n",
      "=============================================================\n",
      "Number 02 presidential candidate again is the circumcision queue ...?\n",
      "skor sentimen = \n",
      " Sentiment(polarity=0.0, subjectivity=0.0)\n",
      "sentimen polarity =  0.0\n",
      "=============================================================\n",
      "If Prabowo is circumcised, what are you going to do twice?\n",
      "skor sentimen = \n",
      " Sentiment(polarity=0.0, subjectivity=0.0)\n",
      "sentimen polarity =  0.0\n",
      "=============================================================\n"
     ]
    }
   ],
   "source": [
    "for kal in pchkal:\n",
    "    print(kal)\n",
    "    skor=kal.sentiment\n",
    "    print(\"skor sentimen = \\n\", skor)\n",
    "    skor_pol=kal.sentiment.polarity\n",
    "    print(\"sentimen polarity = \",skor_pol)\n",
    "    print(\"=============================================================\")"
   ]
  },
  {
   "cell_type": "code",
   "execution_count": 20,
   "metadata": {},
   "outputs": [
    {
     "name": "stdout",
     "output_type": "stream",
     "text": [
      "['pos', 'neg', 'net', 'net', 'pos', 'net', 'pos', 'neg', 'neg', 'net', 'pos', 'pos', 'net', 'net', 'net', 'net']\n"
     ]
    }
   ],
   "source": [
    "Se=[]\n",
    "for kal in pchkal:\n",
    "    Sen=kal.sentiment.polarity\n",
    "    if(Sen>0.2):\n",
    "        Se.append('pos')\n",
    "    elif(Sen<-0.05): #I prefer this\n",
    "        Se.append('neg')\n",
    "    else:\n",
    "        Se.append('net')\n",
    "print(Se)   "
   ]
  },
  {
   "cell_type": "code",
   "execution_count": 21,
   "metadata": {
    "collapsed": true
   },
   "outputs": [],
   "source": [
    "import matplotlib.pyplot as plt\n",
    "def PieChart(score,labels):\n",
    "    fig1=plt.figure(); fig1.add_subplot(111)\n",
    "    plt.pie(score,labels=labels,autopct='%1.1f%%',startangle=140)\n",
    "    plt.axis('equal');plt.show()\n",
    "    return None "
   ]
  },
  {
   "cell_type": "code",
   "execution_count": 22,
   "metadata": {},
   "outputs": [
    {
     "name": "stdout",
     "output_type": "stream",
     "text": [
      "pos\n",
      "neg\n",
      "net\n",
      "net\n",
      "pos\n",
      "net\n",
      "pos\n",
      "neg\n",
      "neg\n",
      "net\n",
      "pos\n",
      "pos\n",
      "net\n",
      "net\n",
      "net\n",
      "net\n",
      "[5, 3, 8]\n"
     ]
    },
    {
     "data": {
      "image/png": "[encoded data removed]",
      "text/plain": [
       "<matplotlib.figure.Figure at 0x9ef6350>"
      ]
     },
     "metadata": {},
     "output_type": "display_data"
    }
   ],
   "source": [
    "for i in Se:\n",
    "    print(i)\n",
    "    score_se=[len([True for t in Se if t=='pos']),len([True for t in Se if t=='neg']),len([True for t in Se if t=='net'])]\n",
    "    \n",
    "print(score_se)\n",
    "label_se=['positif','negatif','netral']\n",
    "PieChart(score_se,label_se)"
   ]
  },
  {
   "cell_type": "code",
   "execution_count": null,
   "metadata": {
    "collapsed": true
   },
   "outputs": [],
   "source": []
  }
 ],
 "metadata": {
  "kernelspec": {
   "display_name": "Python 3",
   "language": "python",
   "name": "python3"
  },
  "language_info": {
   "codemirror_mode": {
    "name": "ipython",
    "version": 3
   },
   "file_extension": ".py",
   "mimetype": "text/x-python",
   "name": "python",
   "nbconvert_exporter": "python",
   "pygments_lexer": "ipython3",
   "version": "3.6.5"
  }
 },
 "nbformat": 4,
 "nbformat_minor": 2
}
